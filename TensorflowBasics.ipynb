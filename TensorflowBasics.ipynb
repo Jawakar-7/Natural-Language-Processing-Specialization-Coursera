{
  "nbformat": 4,
  "nbformat_minor": 0,
  "metadata": {
    "colab": {
      "provenance": [],
      "authorship_tag": "ABX9TyP1f/c0+PB1AmURYB2/6mEu",
      "include_colab_link": true
    },
    "kernelspec": {
      "name": "python3",
      "display_name": "Python 3"
    },
    "language_info": {
      "name": "python"
    }
  },
  "cells": [
    {
      "cell_type": "markdown",
      "metadata": {
        "id": "view-in-github",
        "colab_type": "text"
      },
      "source": [
        "<a href=\"https://colab.research.google.com/github/Jawakar-7/Natural-Language-Processing-Specialization-Coursera/blob/main/TensorflowBasics.ipynb\" target=\"_parent\"><img src=\"https://colab.research.google.com/assets/colab-badge.svg\" alt=\"Open In Colab\"/></a>"
      ]
    },
    {
      "cell_type": "code",
      "execution_count": 1,
      "metadata": {
        "colab": {
          "base_uri": "https://localhost:8080/"
        },
        "id": "6_5HtxNudrBE",
        "outputId": "535aacf0-5e11-4485-fc8d-709fb6b846fa"
      },
      "outputs": [
        {
          "output_type": "stream",
          "name": "stdout",
          "text": [
            "2.12.0\n"
          ]
        }
      ],
      "source": [
        "import tensorflow as tf\n",
        "print(tf.__version__)"
      ]
    },
    {
      "cell_type": "code",
      "source": [
        "a=tf.constant([\n",
        " [   [1,2,4],\n",
        "    [1,2,5],\n",
        "    [1,2,33]\n",
        "],[ [1,2,4],\n",
        "    [1,2,5],\n",
        "    [1,2,33]],[ [1,2,4],\n",
        "    [1,2,5],\n",
        "    [1,2,33]]])"
      ],
      "metadata": {
        "id": "eEOiWjaGeaZZ"
      },
      "execution_count": 6,
      "outputs": []
    },
    {
      "cell_type": "code",
      "source": [
        "a"
      ],
      "metadata": {
        "colab": {
          "base_uri": "https://localhost:8080/"
        },
        "id": "V1PWSgJOeaV3",
        "outputId": "ac029ac2-38cd-4d35-a671-02b20e70846e"
      },
      "execution_count": 7,
      "outputs": [
        {
          "output_type": "execute_result",
          "data": {
            "text/plain": [
              "<tf.Tensor: shape=(3, 3, 3), dtype=int32, numpy=\n",
              "array([[[ 1,  2,  4],\n",
              "        [ 1,  2,  5],\n",
              "        [ 1,  2, 33]],\n",
              "\n",
              "       [[ 1,  2,  4],\n",
              "        [ 1,  2,  5],\n",
              "        [ 1,  2, 33]],\n",
              "\n",
              "       [[ 1,  2,  4],\n",
              "        [ 1,  2,  5],\n",
              "        [ 1,  2, 33]]], dtype=int32)>"
            ]
          },
          "metadata": {},
          "execution_count": 7
        }
      ]
    },
    {
      "cell_type": "code",
      "source": [],
      "metadata": {
        "id": "RXp4ZZsqeYIh"
      },
      "execution_count": null,
      "outputs": []
    }
  ]
}