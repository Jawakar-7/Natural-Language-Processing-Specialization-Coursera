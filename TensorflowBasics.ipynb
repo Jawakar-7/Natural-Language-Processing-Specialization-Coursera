{
  "nbformat": 4,
  "nbformat_minor": 0,
  "metadata": {
    "colab": {
      "provenance": [],
      "authorship_tag": "ABX9TyM5MRJV31+EYajDHMKxlG8r",
      "include_colab_link": true
    },
    "kernelspec": {
      "name": "python3",
      "display_name": "Python 3"
    },
    "language_info": {
      "name": "python"
    }
  },
  "cells": [
    {
      "cell_type": "markdown",
      "metadata": {
        "id": "view-in-github",
        "colab_type": "text"
      },
      "source": [
        "<a href=\"https://colab.research.google.com/github/Jawakar-7/Natural-Language-Processing-Specialization-Coursera/blob/main/TensorflowBasics.ipynb\" target=\"_parent\"><img src=\"https://colab.research.google.com/assets/colab-badge.svg\" alt=\"Open In Colab\"/></a>"
      ]
    },
    {
      "cell_type": "markdown",
      "source": [
        "#Tensor Flow"
      ],
      "metadata": {
        "id": "58Ty8hjGRyaj"
      }
    },
    {
      "cell_type": "markdown",
      "source": [
        " A tensor is a multi-dimensional array&TensorFlow is an open-source software library for building neural networks. Google Brain team was the one who built it and it is the most popular deep learning library in the market today."
      ],
      "metadata": {
        "id": "PSeo0QYJVcmb"
      }
    },
    {
      "cell_type": "code",
      "source": [
        "import tensorflow as tf\n",
        "print(tf.__version__)"
      ],
      "metadata": {
        "colab": {
          "base_uri": "https://localhost:8080/"
        },
        "id": "ldsg3VGYR2yV",
        "outputId": "79cb01c8-a85e-46c5-a57b-328f28e27a3b"
      },
      "execution_count": 1,
      "outputs": [
        {
          "output_type": "stream",
          "name": "stdout",
          "text": [
            "2.12.0\n"
          ]
        }
      ]
    },
    {
      "cell_type": "markdown",
      "source": [
        "Creating a Constant Tensor"
      ],
      "metadata": {
        "id": "HxMjql3DRqEj"
      }
    },
    {
      "cell_type": "code",
      "source": [
        "a=tf.constant([\n",
        " [   [1,2,4],\n",
        "    [1,2,5],\n",
        "    [1,2,33]\n",
        "],[ [1,2,4],\n",
        "    [1,2,5],\n",
        "    [1,2,33]],[ [1,2,4],\n",
        "    [1,2,5],\n",
        "    [1,2,33]]])"
      ],
      "metadata": {
        "id": "eEOiWjaGeaZZ"
      },
      "execution_count": null,
      "outputs": []
    },
    {
      "cell_type": "code",
      "source": [
        "a"
      ],
      "metadata": {
        "colab": {
          "base_uri": "https://localhost:8080/"
        },
        "id": "V1PWSgJOeaV3",
        "outputId": "ac029ac2-38cd-4d35-a671-02b20e70846e"
      },
      "execution_count": null,
      "outputs": [
        {
          "output_type": "execute_result",
          "data": {
            "text/plain": [
              "<tf.Tensor: shape=(3, 3, 3), dtype=int32, numpy=\n",
              "array([[[ 1,  2,  4],\n",
              "        [ 1,  2,  5],\n",
              "        [ 1,  2, 33]],\n",
              "\n",
              "       [[ 1,  2,  4],\n",
              "        [ 1,  2,  5],\n",
              "        [ 1,  2, 33]],\n",
              "\n",
              "       [[ 1,  2,  4],\n",
              "        [ 1,  2,  5],\n",
              "        [ 1,  2, 33]]], dtype=int32)>"
            ]
          },
          "metadata": {},
          "execution_count": 7
        }
      ]
    },
    {
      "cell_type": "markdown",
      "source": [
        "Four Dimensional Tensors of zeros"
      ],
      "metadata": {
        "id": "OpGk89R3R4fs"
      }
    },
    {
      "cell_type": "code",
      "source": [
        "_4dimtens=tf.zeros([4,3,2,3])"
      ],
      "metadata": {
        "id": "RXp4ZZsqeYIh"
      },
      "execution_count": null,
      "outputs": []
    },
    {
      "cell_type": "code",
      "source": [
        "_4dimtens"
      ],
      "metadata": {
        "colab": {
          "base_uri": "https://localhost:8080/"
        },
        "id": "80MJUi94k1DB",
        "outputId": "906289c7-8994-4cc2-c4e1-4b2a2006fffd"
      },
      "execution_count": null,
      "outputs": [
        {
          "output_type": "execute_result",
          "data": {
            "text/plain": [
              "<tf.Tensor: shape=(4, 3, 2, 3), dtype=float32, numpy=\n",
              "array([[[[0., 0., 0.],\n",
              "         [0., 0., 0.]],\n",
              "\n",
              "        [[0., 0., 0.],\n",
              "         [0., 0., 0.]],\n",
              "\n",
              "        [[0., 0., 0.],\n",
              "         [0., 0., 0.]]],\n",
              "\n",
              "\n",
              "       [[[0., 0., 0.],\n",
              "         [0., 0., 0.]],\n",
              "\n",
              "        [[0., 0., 0.],\n",
              "         [0., 0., 0.]],\n",
              "\n",
              "        [[0., 0., 0.],\n",
              "         [0., 0., 0.]]],\n",
              "\n",
              "\n",
              "       [[[0., 0., 0.],\n",
              "         [0., 0., 0.]],\n",
              "\n",
              "        [[0., 0., 0.],\n",
              "         [0., 0., 0.]],\n",
              "\n",
              "        [[0., 0., 0.],\n",
              "         [0., 0., 0.]]],\n",
              "\n",
              "\n",
              "       [[[0., 0., 0.],\n",
              "         [0., 0., 0.]],\n",
              "\n",
              "        [[0., 0., 0.],\n",
              "         [0., 0., 0.]],\n",
              "\n",
              "        [[0., 0., 0.],\n",
              "         [0., 0., 0.]]]], dtype=float32)>"
            ]
          },
          "metadata": {},
          "execution_count": 11
        }
      ]
    },
    {
      "cell_type": "markdown",
      "source": [
        "#### Creating Random Values\n",
        "Let’s create a tensor with random values. There are two common ways you can do this: generate a normal distribution of data or a uniform distribution of data."
      ],
      "metadata": {
        "id": "2pTaOaONSFZN"
      }
    },
    {
      "cell_type": "code",
      "source": [
        "seed=tf.random.Generator.from_seed(33)\n",
        "norm_dist=seed.normal(shape=(2,3))\n",
        "print(norm_dist)\n",
        "uni_dist=seed.uniform(shape=(3,3))\n",
        "print(uni_dist)"
      ],
      "metadata": {
        "id": "R3HQaKOHlDNt",
        "colab": {
          "base_uri": "https://localhost:8080/"
        },
        "outputId": "7cbc8137-0cc0-452d-97f8-bde902420b4f"
      },
      "execution_count": 3,
      "outputs": [
        {
          "output_type": "stream",
          "name": "stdout",
          "text": [
            "tf.Tensor(\n",
            "[[-0.1589871   1.302304    0.9592239 ]\n",
            " [ 0.85874265 -1.5181769   1.4020647 ]], shape=(2, 3), dtype=float32)\n",
            "tf.Tensor(\n",
            "[[0.02675951 0.5285536  0.42530107]\n",
            " [0.67171764 0.64924705 0.13024127]\n",
            " [0.40005922 0.30875564 0.8012408 ]], shape=(3, 3), dtype=float32)\n"
          ]
        }
      ]
    },
    {
      "cell_type": "markdown",
      "source": [
        "Let’s look at converting NumPy arrays into tensors."
      ],
      "metadata": {
        "id": "f9j0TJ8PUf0K"
      }
    },
    {
      "cell_type": "code",
      "source": [
        "import numpy as np\n",
        "var=np.arange(1,40,2,dtype=np.int16)\n",
        "print(var)\n",
        "var.shape"
      ],
      "metadata": {
        "colab": {
          "base_uri": "https://localhost:8080/"
        },
        "id": "ndy4GvH-TcV3",
        "outputId": "08b071db-60a4-4186-ac50-63b9e3ea3966"
      },
      "execution_count": 15,
      "outputs": [
        {
          "output_type": "stream",
          "name": "stdout",
          "text": [
            "[ 1  3  5  7  9 11 13 15 17 19 21 23 25 27 29 31 33 35 37 39]\n"
          ]
        },
        {
          "output_type": "execute_result",
          "data": {
            "text/plain": [
              "(20,)"
            ]
          },
          "metadata": {},
          "execution_count": 15
        }
      ]
    },
    {
      "cell_type": "code",
      "source": [
        "var1=tf.constant(var,shape=[2,10])\n",
        "print(var1)"
      ],
      "metadata": {
        "colab": {
          "base_uri": "https://localhost:8080/"
        },
        "id": "wdwZSt0RUyRO",
        "outputId": "ff258ce0-bd10-4961-eab2-33c00a642113"
      },
      "execution_count": 18,
      "outputs": [
        {
          "output_type": "stream",
          "name": "stdout",
          "text": [
            "tf.Tensor(\n",
            "[[ 1  3  5  7  9 11 13 15 17 19]\n",
            " [21 23 25 27 29 31 33 35 37 39]], shape=(2, 10), dtype=int16)\n"
          ]
        }
      ]
    },
    {
      "cell_type": "markdown",
      "source": [
        "### Reshape & Transpose\n",
        "\n",
        "To reshape, we use the tf.reshape function. To transpose, we use the tf.transpose function. If you don't know what a transpose is, it's converting rows into columns and columns into rows."
      ],
      "metadata": {
        "id": "NnmtoMhZWB-u"
      }
    },
    {
      "cell_type": "code",
      "source": [
        "var2=tf.reshape(var1,[4,5])\n",
        "print(var2)"
      ],
      "metadata": {
        "colab": {
          "base_uri": "https://localhost:8080/"
        },
        "id": "jvrcNsF3U6ML",
        "outputId": "06415cf3-bc69-481e-8805-09edf1749b06"
      },
      "execution_count": 24,
      "outputs": [
        {
          "output_type": "stream",
          "name": "stdout",
          "text": [
            "tf.Tensor(\n",
            "[[ 1  3  5  7  9]\n",
            " [11 13 15 17 19]\n",
            " [21 23 25 27 29]\n",
            " [31 33 35 37 39]], shape=(4, 5), dtype=int16)\n"
          ]
        }
      ]
    },
    {
      "cell_type": "code",
      "source": [
        "var2=tf.transpose(var2)\n",
        "print(var2)"
      ],
      "metadata": {
        "colab": {
          "base_uri": "https://localhost:8080/"
        },
        "id": "sWC1eNijWkAk",
        "outputId": "a2f0614d-5362-459b-e6a9-5c603b137300"
      },
      "execution_count": 25,
      "outputs": [
        {
          "output_type": "stream",
          "name": "stdout",
          "text": [
            "tf.Tensor(\n",
            "[[ 1 11 21 31]\n",
            " [ 3 13 23 33]\n",
            " [ 5 15 25 35]\n",
            " [ 7 17 27 37]\n",
            " [ 9 19 29 39]], shape=(5, 4), dtype=int16)\n"
          ]
        }
      ]
    },
    {
      "cell_type": "markdown",
      "source": [],
      "metadata": {
        "id": "wIyHLHV5WBXv"
      }
    }
  ]
}